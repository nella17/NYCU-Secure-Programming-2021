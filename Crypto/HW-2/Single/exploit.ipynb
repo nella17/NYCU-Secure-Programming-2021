{
 "cells": [
  {
   "cell_type": "code",
   "execution_count": 1,
   "metadata": {},
   "outputs": [],
   "source": [
    "from collections import namedtuple\n",
    "Point = namedtuple(\"Point\", \"x y\")\n",
    "\n",
    "p = 9631668579539701602760432524602953084395033948174466686285759025897298205383\n",
    "F = GF(p)\n",
    "\n",
    "gx = 5664314881801362353989790109530444623032842167510027140490832957430741393367\n",
    "gy = 3735011281298930501441332016708219762942193860515094934964869027614672869355\n",
    "G = Point(gx, gy)"
   ]
  },
  {
   "cell_type": "code",
   "execution_count": 2,
   "metadata": {},
   "outputs": [],
   "source": [
    "A = Point(x=3829488417236560785272607696709023677752676859512573328792921651640651429215, y=7947434117984861166834877190207950006170738405923358235762824894524937052000)\n",
    "B = Point(x=9587224500151531060103223864145463144550060225196219072827570145340119297428, y=2527809441042103520997737454058469252175392602635610992457770946515371529908)\n",
    "enc = bytes.fromhex('1536c5b019bd24ddf9fc50de28828f727190ff121b709a6c63c4f823ec31780ad30d219f07a8c419c7afcdce900b6e89b37b18b6daede22e5445eb98f3ca2e40')"
   ]
  },
  {
   "cell_type": "code",
   "execution_count": 3,
   "metadata": {},
   "outputs": [
    {
     "name": "stdout",
     "output_type": "stream",
     "text": [
      "a = 9605275265879631008726467740646537125692167794341640822702313056611938432994\n",
      "b = 7839838607707494463758049830515369383778931948114955676985180993569200375480\n"
     ]
    }
   ],
   "source": [
    "f = lambda P: F(P.y^2 - P.x^3)\n",
    "a = (f(A) - f(B)) * pow(A.x - B.x, -1, p)\n",
    "b = f(A) - a * A.x\n",
    "\n",
    "a = int(a)\n",
    "b = int(b)\n",
    "print('a =', a)\n",
    "print('b =', b)\n",
    "assert (4*a^3 + 27*b^2) % p == 0"
   ]
  },
  {
   "cell_type": "markdown",
   "metadata": {},
   "source": [
    "\\begin{align}\n",
    "y^2 &= x^3 + ax + b \\\\\n",
    "&= (x-\\alpha)^2(x-\\beta) \\\\\n",
    "&= x^3 - (2\\alpha+\\beta)x^2 + (\\alpha^2+2\\alpha\\beta)x - (\\alpha^2\\beta) \\\\\n",
    "\\\\\n",
    "&\\Rightarrow\n",
    "\\begin{cases}\n",
    "    2\\alpha+\\beta = 0 \\\\\n",
    "    \\alpha^2+2\\alpha\\beta = a \\\\\n",
    "    -\\alpha^2\\beta = b \\\\\n",
    "\\end{cases}\n",
    "\\\\\n",
    "&\\Rightarrow\n",
    "\\beta = -2\\alpha\n",
    "\\\\\n",
    "&\\Rightarrow\n",
    "\\begin{cases}\n",
    "    \\beta = -2\\alpha \\\\\n",
    "    2\\alpha^3 = b \\\\\n",
    "    -3\\alpha^2 = a \\\\\n",
    "\\end{cases}\\\\\n",
    "&\\Rightarrow\n",
    "\\begin{cases}\n",
    "    \\alpha = \\displaystyle\\frac{b/2}{a/-3} \\\\\n",
    "    \\beta = -2\\alpha \\\\\n",
    "\\end{cases}\\\\\n",
    "\\end{align}"
   ]
  },
  {
   "cell_type": "code",
   "execution_count": 4,
   "metadata": {},
   "outputs": [],
   "source": [
    "alpha = (F(b)/2)/(F(a)/-3)\n",
    "beta = -2*alpha"
   ]
  },
  {
   "cell_type": "code",
   "execution_count": 5,
   "metadata": {},
   "outputs": [],
   "source": [
    "PF.<x> = PolynomialRing(F)\n",
    "assert (x-PF(alpha))^2*(x-PF(beta)) == x^3 + PF(a)*x + PF(b)"
   ]
  },
  {
   "cell_type": "code",
   "execution_count": 6,
   "metadata": {},
   "outputs": [
    {
     "data": {
      "text/plain": [
       "3595609028560051069710646173649895336250763792764650672569352125353978457253"
      ]
     },
     "execution_count": 6,
     "metadata": {},
     "output_type": "execute_result"
    }
   ],
   "source": [
    "def phi(P):\n",
    "    k = sqrt(alpha-beta) * (P.x-alpha)\n",
    "    return (P.y+k)/(P.y-k)\n",
    "\n",
    "phi(G)"
   ]
  },
  {
   "cell_type": "markdown",
   "metadata": {},
   "source": [
    "$ \\phi(A) = \\phi(dA\\cdot G) = \\phi(G)^{dA} $"
   ]
  },
  {
   "cell_type": "code",
   "execution_count": 7,
   "metadata": {},
   "outputs": [],
   "source": [
    "from sage.groups.generic import bsgs\n",
    "def pohlig_hellman(p,g,h,fac = None, debug = False):\n",
    "    F = IntegerModRing(p)\n",
    "    g = F(g)\n",
    "    h = F(h)\n",
    "    if not fac:\n",
    "        fac = set(ecm.factor(p-1))\n",
    "    if debug: print(fac)\n",
    "    xi = []\n",
    "    pi = []\n",
    "    for q in fac:\n",
    "        cnt = 1\n",
    "        while (p-1)%(q**(cnt+1)) == 0:\n",
    "            cnt += 1\n",
    "        if debug: print(q,cnt)\n",
    "        k = q**cnt\n",
    "        G = g**((p-1)//k)\n",
    "        H = h**((p-1)//k)\n",
    "        X = bsgs(G, H, (0, q))\n",
    "        xi.append(X)\n",
    "        pi.append(k)\n",
    "        if debug: print(G, H, X)\n",
    "    r = crt(xi, pi)\n",
    "    return r"
   ]
  },
  {
   "cell_type": "code",
   "execution_count": 8,
   "metadata": {},
   "outputs": [],
   "source": [
    "O = 'INFINITY'\n",
    "\n",
    "def is_on_curve(P):\n",
    "    if P == O:\n",
    "        return True\n",
    "    else:\n",
    "        return (P.y**2 - (P.x**3 + a*P.x + b)) % p == 0 and 0 <= P.x and P.x < p and 0 <= P.y and P.y < p\n",
    "\n",
    "def point_inverse(P):\n",
    "    if P == O:\n",
    "        return P\n",
    "    return Point(P.x, -P.y % p)\n",
    "\n",
    "inverse = lambda x, p: int(pow(x,-1,p))\n",
    "\n",
    "def point_addition(P, Q):\n",
    "    if P == O:\n",
    "        return Q\n",
    "    elif Q == O:\n",
    "        return P\n",
    "    elif Q == point_inverse(P):\n",
    "        return O\n",
    "    else:\n",
    "        if P == Q:\n",
    "            s = (3*P.x**2 + a)*inverse_mod(2*P.y, p) % p\n",
    "        else:\n",
    "            s = (Q.y - P.y) * inverse_mod((Q.x - P.x), p) % p\n",
    "    Rx = (s**2 - P.x - Q.x) % p\n",
    "    Ry = (s*(P.x - Rx) - P.y) % p\n",
    "    R = Point(Rx, Ry)\n",
    "    assert is_on_curve(R)\n",
    "    return R\n",
    "\n",
    "def point_multiply(P, d):\n",
    "    bits = bin(d)[2:]\n",
    "    Q = O\n",
    "    for bit in bits:\n",
    "        Q = point_addition(Q, Q)\n",
    "        if bit == '1':\n",
    "            Q = point_addition(Q, P)\n",
    "    assert is_on_curve(Q)\n",
    "    return Q"
   ]
  },
  {
   "cell_type": "code",
   "execution_count": 9,
   "metadata": {},
   "outputs": [],
   "source": [
    "dA = pohlig_hellman(p,phi(G),phi(A))\n",
    "assert A == point_multiply(G,dA)"
   ]
  },
  {
   "cell_type": "code",
   "execution_count": 10,
   "metadata": {
    "scrolled": true
   },
   "outputs": [
    {
     "name": "stdout",
     "output_type": "stream",
     "text": [
      "FLAG{adbffefdb46a99fad0042dd3c10fdc414fadd25c}\n"
     ]
    }
   ],
   "source": [
    "import hashlib\n",
    "k = point_multiply(B, dA).x\n",
    "k = hashlib.sha512(str(k).encode('ascii')).digest()\n",
    "FLAG = bytes(ci ^^ ki for ci, ki in zip(enc, k)).strip(b'\\0').decode().strip()\n",
    "print(FLAG)"
   ]
  },
  {
   "cell_type": "code",
   "execution_count": null,
   "metadata": {},
   "outputs": [],
   "source": []
  }
 ],
 "metadata": {
  "kernelspec": {
   "display_name": "SageMath 9.1",
   "language": "sage",
   "name": "sagemath"
  },
  "language_info": {
   "codemirror_mode": {
    "name": "ipython",
    "version": 3
   },
   "file_extension": ".py",
   "mimetype": "text/x-python",
   "name": "python",
   "nbconvert_exporter": "python",
   "pygments_lexer": "ipython3",
   "version": "3.7.3"
  }
 },
 "nbformat": 4,
 "nbformat_minor": 2
}
